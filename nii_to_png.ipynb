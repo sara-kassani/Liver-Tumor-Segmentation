{
 "cells": [
  {
   "cell_type": "code",
   "execution_count": null,
   "metadata": {},
   "outputs": [],
   "source": [
    "import os  \n",
    "import nibabel as nib  \n",
    "import cv2\n",
    "import numpy as np"
   ]
  },
  {
   "cell_type": "code",
   "execution_count": 3,
   "metadata": {},
   "outputs": [],
   "source": [
    "def nii_to_image():\n",
    "    filenames = os.listdir(filepath)\n",
    "    \n",
    "    for f in filenames:\n",
    "        img_path = os.path.join(filepath, f)\n",
    "        img = nib.load(img_path)\n",
    "        img_fdata = img.get_fdata()\n",
    "#         print(img_fdata.dtype)  # float64\n",
    "#         print(np.min(img_fdata), np.max(img_fdata))\n",
    "\n",
    "        fname = f.replace('.nii', '')  \n",
    "        img_f_path = os.path.join(imgfile, fname)\n",
    "\n",
    "        if not os.path.exists(img_f_path):\n",
    "   \n",
    "            os.mkdir(img_f_path)  \n",
    "\n",
    "        (x, y, z) = img.shape\n",
    "        # z is the sequence of images\n",
    "        for i in range(z):\n",
    "            # Choose which direction to slice\n",
    "            silce = img_fdata[:, :, i]\n",
    "            silce *=255.0\n",
    "            silce = silce.astype(np.float64)  \n",
    "            cv2.imwrite(os.path.join(img_f_path, '{}.png'.format(i)), silce*255)"
   ]
  },
  {
   "cell_type": "code",
   "execution_count": 4,
   "metadata": {},
   "outputs": [],
   "source": [
    "filepath = 'data/small/'\n",
    "imgfile = 'data/pngs/'\n",
    "nii_to_image()"
   ]
  }
 ],
 "metadata": {
  "kernelspec": {
   "display_name": "Python 3",
   "language": "python",
   "name": "python3"
  },
  "language_info": {
   "codemirror_mode": {
    "name": "ipython",
    "version": 3
   },
   "file_extension": ".py",
   "mimetype": "text/x-python",
   "name": "python",
   "nbconvert_exporter": "python",
   "pygments_lexer": "ipython3",
   "version": "3.7.9"
  }
 },
 "nbformat": 4,
 "nbformat_minor": 4
}
