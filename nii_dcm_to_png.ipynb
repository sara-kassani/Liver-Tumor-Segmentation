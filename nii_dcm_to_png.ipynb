{
 "cells": [
  {
   "cell_type": "code",
   "execution_count": null,
   "metadata": {},
   "outputs": [],
   "source": [
    "import os, sys\n",
    "import pydicom\n",
    "import nibabel\n",
    "import cv2\n",
    "import numpy as np"
   ]
  },
  {
   "cell_type": "code",
   "execution_count": null,
   "metadata": {},
   "outputs": [],
   "source": [
    "def nii_to_png(input_path, output_path):\n",
    "    if not os.path.exists(output_path):\n",
    "            os.makedirs(output_path)\n",
    "\n",
    "    file_list = []\n",
    "    for parent, dirnames, filenames in os.walk(input_path):\n",
    "        for filename in filenames:\n",
    "            if filename.lower().endswith(('.nii', '.nii.gz', '.dcm')):\n",
    "                file_list.append(os.path.join(parent, filename))\n",
    "\n",
    "    for files in file_list:\n",
    "        if files.lower().endswith('.dcm'):\n",
    "            image = pydicom.dcmread(files)\n",
    "            img_name = files.replace('.dcm', '.png')\n",
    "            cv2.imwrite(img_name, image.pixel_array)\n",
    "\n",
    "        if files.lower().endswith(('.nii', '.nii.gz')):\n",
    "            pixel_array = nibabel.load(files).get_fdata()\n",
    "#             print(pixel_array.shape)\n",
    "            total_slices = pixel_array.shape[2]\n",
    "#             print(total_slices)\n",
    "            for slices in range(0, total_slices):\n",
    "                image =  pixel_array[:, :, slices]*255\n",
    "                image = image.astype(np.float64)  \n",
    "                \n",
    "                img_name = files.replace('.nii.gz', '_{}.png'.format(slices))\n",
    "                \n",
    "                if files.lower().endswith('.nii'):\n",
    "                    img_name = files.replace('.nii', '_{}.png'.format(slices))\n",
    "                    \n",
    "                    file_name = os.path.basename(img_name)\n",
    "                    dst_name = os.path.join(output_path, file_name)\n",
    "                    cv2.imwrite(dst_name, image)"
   ]
  },
  {
   "cell_type": "code",
   "execution_count": null,
   "metadata": {},
   "outputs": [],
   "source": [
    "input_path = \"data/small/\"\n",
    "output_path = \"data/pngs/\"\n",
    "\n",
    "nii_to_png(input_path, output_path)"
   ]
  },
  {
   "cell_type": "code",
   "execution_count": null,
   "metadata": {},
   "outputs": [],
   "source": []
  }
 ],
 "metadata": {
  "kernelspec": {
   "display_name": "Python 3",
   "language": "python",
   "name": "python3"
  },
  "language_info": {
   "codemirror_mode": {
    "name": "ipython",
    "version": 3
   },
   "file_extension": ".py",
   "mimetype": "text/x-python",
   "name": "python",
   "nbconvert_exporter": "python",
   "pygments_lexer": "ipython3",
   "version": "3.7.9"
  }
 },
 "nbformat": 4,
 "nbformat_minor": 4
}
